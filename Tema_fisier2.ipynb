{
  "nbformat": 4,
  "nbformat_minor": 0,
  "metadata": {
    "colab": {
      "provenance": [],
      "authorship_tag": "ABX9TyPU0X2vrJgCXGzWX7kldF9c",
      "include_colab_link": true
    },
    "kernelspec": {
      "name": "python3",
      "display_name": "Python 3"
    },
    "language_info": {
      "name": "python"
    }
  },
  "cells": [
    {
      "cell_type": "markdown",
      "metadata": {
        "id": "view-in-github",
        "colab_type": "text"
      },
      "source": [
        "<a href=\"https://colab.research.google.com/github/DanLangas/CursDL/blob/main/Tema_fisier2.ipynb\" target=\"_parent\"><img src=\"https://colab.research.google.com/assets/colab-badge.svg\" alt=\"Open In Colab\"/></a>"
      ]
    },
    {
      "cell_type": "code",
      "execution_count": 6,
      "metadata": {
        "colab": {
          "base_uri": "https://localhost:8080/"
        },
        "id": "OG4Tl_v7SO5U",
        "outputId": "06799c0d-4263-41ba-e9e9-2b4c42879449"
      },
      "outputs": [
        {
          "output_type": "stream",
          "name": "stdout",
          "text": [
            "Drive already mounted at /content/gdrive; to attempt to forcibly remount, call drive.mount(\"/content/gdrive\", force_remount=True).\n"
          ]
        },
        {
          "output_type": "stream",
          "name": "stderr",
          "text": [
            "WARNING:absl:Skipping variable loading for optimizer 'Adam', because it has 21 variables whereas the saved optimizer has 1 variables. \n"
          ]
        },
        {
          "output_type": "stream",
          "name": "stdout",
          "text": [
            "313/313 - 2s - loss: 2.3036 - accuracy: 0.1001 - 2s/epoch - 8ms/step\n",
            "Test accuracy: 0.10010000318288803\n"
          ]
        }
      ],
      "source": [
        "import tensorflow as tf\n",
        "from tensorflow.keras.datasets import cifar10\n",
        "from google.colab import drive\n",
        "drive.mount('/content/gdrive')\n",
        "model_path = '/content/gdrive/My Drive/cifar10_model.keras'\n",
        "\n",
        "\n",
        "(_, _), (test_images, test_labels) = cifar10.load_data()\n",
        "test_images = test_images / 255.0\n",
        "\n",
        "\n",
        "model = tf.keras.models.load_model(model_path)\n",
        "\n",
        "test_loss, test_accuracy = model.evaluate(test_images, test_labels, verbose=2)\n",
        "print(f\"Test accuracy: {test_accuracy}\")"
      ]
    }
  ]
}